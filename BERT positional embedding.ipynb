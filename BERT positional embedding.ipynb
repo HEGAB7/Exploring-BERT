{
 "cells": [
  {
   "cell_type": "code",
   "execution_count": 1,
   "id": "fb5f10c8-473f-439a-9868-6d2143e10f16",
   "metadata": {},
   "outputs": [],
   "source": [
    "import matplotlib.pyplot as plt\n",
    "import seaborn as sns"
   ]
  },
  {
   "cell_type": "code",
   "execution_count": 2,
   "id": "e57cf5e8-8ac7-4ba7-9d64-34c267ce40be",
   "metadata": {},
   "outputs": [],
   "source": [
    "from transformers import AutoTokenizer, BertForPreTraining\n",
    "import torch\n",
    "\n",
    "tokenizer = AutoTokenizer.from_pretrained(\"google-bert/bert-base-uncased\")\n",
    "model = BertForPreTraining.from_pretrained(\"google-bert/bert-base-uncased\")"
   ]
  },
  {
   "cell_type": "code",
   "execution_count": 3,
   "id": "521cf664-2b7a-48a6-9fe9-6d22a9cd969e",
   "metadata": {},
   "outputs": [
    {
     "name": "stdout",
     "output_type": "stream",
     "text": [
      "BertForPreTrainingOutput(loss=None, prediction_logits=tensor([[[ -7.8962,  -7.8105,  -7.7903,  ...,  -7.0694,  -7.1693,  -4.3590],\n",
      "         [ -8.4461,  -8.4401,  -8.5044,  ...,  -8.0625,  -7.9909,  -5.7160],\n",
      "         [-15.2953, -15.4727, -15.5865,  ..., -12.9857, -11.7038, -11.4293],\n",
      "         ...,\n",
      "         [-14.0628, -14.2536, -14.3645,  ..., -12.7151, -11.1621, -10.2317],\n",
      "         [-10.6576, -10.7892, -11.0402,  ..., -10.3233, -10.1578,  -3.7721],\n",
      "         [-11.3383, -11.4590, -11.1767,  ...,  -9.2152,  -9.5209,  -9.5571]]],\n",
      "       grad_fn=<ViewBackward0>), seq_relationship_logits=tensor([[ 3.3474, -2.0613]], grad_fn=<AddmmBackward0>), hidden_states=None, attentions=None)\n"
     ]
    }
   ],
   "source": [
    "# example running the tokenizer and the model\n",
    "\n",
    "inputs = tokenizer(\"Hello, my dog is cute\", return_tensors=\"pt\")\n",
    "outputs = model(**inputs)\n",
    "\n",
    "print(outputs)"
   ]
  },
  {
   "cell_type": "code",
   "execution_count": 4,
   "id": "c4ee7ed6-36ca-4627-928a-c791d3ac942f",
   "metadata": {},
   "outputs": [
    {
     "data": {
      "text/plain": [
       "torch.Size([1, 8, 30522])"
      ]
     },
     "execution_count": 4,
     "metadata": {},
     "output_type": "execute_result"
    }
   ],
   "source": [
    "# (batch_size, num_tokens (after, vocab_size)\n",
    "outputs.prediction_logits.shape"
   ]
  },
  {
   "cell_type": "code",
   "execution_count": 5,
   "id": "7dfa475f-3889-4168-b73b-9695e8f635ba",
   "metadata": {},
   "outputs": [
    {
     "name": "stdout",
     "output_type": "stream",
     "text": [
      "['[CLS]', 'hello', ',', 'my', 'dog', 'is', 'cute', '[SEP]']\n",
      "tensor([[  101,  7592,  1010,  2026,  3899,  2003, 10140,   102]])\n"
     ]
    }
   ],
   "source": [
    "# [CLS], [SEP] tokens are added\n",
    "print(tokenizer.tokenize(\"Hello, my dog is cute\", add_special_tokens=True))\n",
    "print(inputs.input_ids)"
   ]
  },
  {
   "cell_type": "code",
   "execution_count": 6,
   "id": "b42daaad-0a12-4cac-a6a2-b7eeda002245",
   "metadata": {},
   "outputs": [
    {
     "data": {
      "text/plain": [
       "tensor(3899)"
      ]
     },
     "execution_count": 6,
     "metadata": {},
     "output_type": "execute_result"
    }
   ],
   "source": [
    "token_idx = 4  #word: dog\n",
    "pred_token = torch.argmax(outputs.prediction_logits[0][token_idx], dim=-1)\n",
    "pred_token"
   ]
  },
  {
   "cell_type": "code",
   "execution_count": 7,
   "id": "9893e23c-c476-45dc-8c41-b9b95a164a4b",
   "metadata": {},
   "outputs": [
    {
     "data": {
      "text/plain": [
       "['dog']"
      ]
     },
     "execution_count": 7,
     "metadata": {},
     "output_type": "execute_result"
    }
   ],
   "source": [
    "[token for token, value in tokenizer.vocab.items() if value == pred_token]"
   ]
  },
  {
   "cell_type": "code",
   "execution_count": 8,
   "id": "4ec04208-0117-4a23-a132-395d49cab415",
   "metadata": {},
   "outputs": [
    {
     "name": "stdout",
     "output_type": "stream",
     "text": [
      "input token [CLS] --- output word ['.']\n",
      "input token hello --- output word ['.']\n",
      "input token , --- output word [',']\n",
      "input token my --- output word ['my']\n",
      "input token dog --- output word ['dog']\n",
      "input token is --- output word ['is']\n",
      "input token cute --- output word ['.']\n",
      "input token [SEP] --- output word ['.']\n"
     ]
    }
   ],
   "source": [
    "input_tokens = tokenizer.tokenize(\"Hello, my dog is cute\", add_special_tokens=True)\n",
    "\n",
    "for i in range(len(inputs.input_ids[0])):\n",
    "    logits = outputs.prediction_logits[0][i]\n",
    "    pred_token = torch.argmax(logits, dim=-1)\n",
    "    word = [token for token, value in tokenizer.vocab.items() if value == pred_token]\n",
    "    print(f'input token {input_tokens[i]} --- output word {word}')"
   ]
  },
  {
   "cell_type": "markdown",
   "id": "54f55aac-6fc7-4ff3-b56c-707b2e64bc48",
   "metadata": {},
   "source": [
    "### Going into the model"
   ]
  },
  {
   "cell_type": "code",
   "execution_count": 9,
   "id": "8a93e7df-8094-49de-a827-ccf00e04be7f",
   "metadata": {},
   "outputs": [
    {
     "data": {
      "text/plain": [
       "BertEmbeddings(\n",
       "  (word_embeddings): Embedding(30522, 768, padding_idx=0)\n",
       "  (position_embeddings): Embedding(512, 768)\n",
       "  (token_type_embeddings): Embedding(2, 768)\n",
       "  (LayerNorm): LayerNorm((768,), eps=1e-12, elementwise_affine=True)\n",
       "  (dropout): Dropout(p=0.1, inplace=False)\n",
       ")"
      ]
     },
     "execution_count": 9,
     "metadata": {},
     "output_type": "execute_result"
    }
   ],
   "source": [
    "model.bert.embeddings"
   ]
  },
  {
   "cell_type": "code",
   "execution_count": 10,
   "id": "0edc3ecc-c04d-4ba9-bed7-29f99d23f647",
   "metadata": {},
   "outputs": [
    {
     "data": {
      "text/plain": [
       "torch.Size([1, 1, 768])"
      ]
     },
     "execution_count": 10,
     "metadata": {},
     "output_type": "execute_result"
    }
   ],
   "source": [
    "model.bert.embeddings(torch.tensor([[101]])).shape"
   ]
  },
  {
   "cell_type": "code",
   "execution_count": 11,
   "id": "c25af566-67c7-4d42-99d0-52073ad6fcae",
   "metadata": {},
   "outputs": [
    {
     "data": {
      "text/plain": [
       "tensor(-0.9504, grad_fn=<MinBackward1>)"
      ]
     },
     "execution_count": 11,
     "metadata": {},
     "output_type": "execute_result"
    }
   ],
   "source": [
    "model.bert.embeddings.word_embeddings.weight.min()"
   ]
  },
  {
   "cell_type": "code",
   "execution_count": 12,
   "id": "28e953be-94b1-49b0-b63f-d9fff167c3c8",
   "metadata": {},
   "outputs": [
    {
     "data": {
      "text/plain": [
       "tensor(0.8729, grad_fn=<MaxBackward1>)"
      ]
     },
     "execution_count": 12,
     "metadata": {},
     "output_type": "execute_result"
    }
   ],
   "source": [
    "model.bert.embeddings.word_embeddings.weight.max()"
   ]
  },
  {
   "cell_type": "code",
   "execution_count": 13,
   "id": "2339ccfb-75e0-454e-9e3c-71784710210b",
   "metadata": {},
   "outputs": [],
   "source": [
    "model_weights = torch.cat(tuple(model.bert.embeddings.word_embeddings.weight.squeeze()))"
   ]
  },
  {
   "cell_type": "code",
   "execution_count": 28,
   "id": "a9f94469-8bf6-4f4c-aa19-18fcf6c3dd57",
   "metadata": {},
   "outputs": [
    {
     "data": {
      "image/png": "[encoded data removed]",
      "text/plain": [
       "<Figure size 640x480 with 1 Axes>"
      ]
     },
     "metadata": {},
     "output_type": "display_data"
    }
   ],
   "source": [
    "sns.histplot(model_weights.detach())\n",
    "plt.xlabel('Embedding values')\n",
    "plt.show()"
   ]
  },
  {
   "cell_type": "code",
   "execution_count": 15,
   "id": "0b44bfc9-130e-4475-b465-2af326357d98",
   "metadata": {},
   "outputs": [],
   "source": [
    "pe_weights = torch.cat(tuple(model.bert.embeddings.position_embeddings.weight.squeeze()))"
   ]
  },
  {
   "cell_type": "code",
   "execution_count": 27,
   "id": "164d55ee-9ae1-4767-926d-b0130384436f",
   "metadata": {},
   "outputs": [
    {
     "data": {
      "image/png": "[encoded data removed]",
      "text/plain": [
       "<Figure size 640x480 with 1 Axes>"
      ]
     },
     "metadata": {},
     "output_type": "display_data"
    }
   ],
   "source": [
    "sns.histplot(pe_weights.detach())\n",
    "plt.xlabel('Positional encoding values')\n",
    "plt.show()"
   ]
  },
  {
   "cell_type": "code",
   "execution_count": 30,
   "id": "4a7fb625-4f87-4523-81fa-3a2e8e6933ba",
   "metadata": {},
   "outputs": [],
   "source": [
    "dog_embedding = model.bert.embeddings.word_embeddings(torch.tensor([[3899]]))\n",
    "dog_pos = model.bert.embeddings.position_embeddings(torch.tensor(4))"
   ]
  },
  {
   "cell_type": "code",
   "execution_count": 31,
   "id": "596edd4b-816a-4065-a1e4-b4ef28747b8c",
   "metadata": {},
   "outputs": [],
   "source": [
    "dog_pos_embed = dog_pos + dog_embedding"
   ]
  },
  {
   "cell_type": "code",
   "execution_count": 32,
   "id": "8805efce-ec77-4c1f-afdd-f92505051475",
   "metadata": {},
   "outputs": [
    {
     "data": {
      "text/plain": [
       "(tensor(-0.1497), tensor(0.1432))"
      ]
     },
     "execution_count": 32,
     "metadata": {},
     "output_type": "execute_result"
    }
   ],
   "source": [
    "dog_pos_embed.min().detach(), dog_pos_embed.max().detach()"
   ]
  },
  {
   "cell_type": "code",
   "execution_count": 20,
   "id": "5888e386-e2f9-4d58-9f56-28fed20ade88",
   "metadata": {},
   "outputs": [
    {
     "data": {
      "text/plain": [
       "['dog']"
      ]
     },
     "execution_count": 20,
     "metadata": {},
     "output_type": "execute_result"
    }
   ],
   "source": [
    "cosine = torch.nn.CosineSimilarity()\n",
    "dog_embed_similarity = [cosine(vec.detach(), dog_pos_embed[0].detach()) for vec in model.bert.embeddings.word_embeddings.weight]\n",
    "\n",
    "sim_idx = torch.argmax(torch.tensor(dog_embed_similarity))\n",
    "[token for token, value in tokenizer.vocab.items() if value == sim_idx]"
   ]
  },
  {
   "cell_type": "code",
   "execution_count": null,
   "id": "2d56078b-fd4b-4f8d-8f14-0b354fd293d6",
   "metadata": {},
   "outputs": [],
   "source": []
  },
  {
   "cell_type": "code",
   "execution_count": 21,
   "id": "1a490e9e-ff89-4960-9ad2-191cd185c6d1",
   "metadata": {},
   "outputs": [],
   "source": [
    "def word_most_n_similar(input_vec, n=5):\n",
    "    sims = [cosine(vec.detach(), input_vec[0].detach()) for vec in model.bert.embeddings.word_embeddings.weight]\n",
    "    top_k = torch.topk(torch.tensor(sims), 5)\n",
    "    top_indices = top_k.indices\n",
    "    top_scores = top_k.values\n",
    "    sim_tokens = [(token,value) for token, value in tokenizer.vocab.items() if value in top_indices]\n",
    "    res ={}\n",
    "    for word, token in sim_tokens:\n",
    "        res[word] = top_scores[list(top_indices).index(token)]\n",
    "\n",
    "    return dict(sorted(res.items(), key=lambda x: x[1], reverse=True))"
   ]
  },
  {
   "cell_type": "code",
   "execution_count": 22,
   "id": "457d7c06-9539-4656-87a8-f934b029e574",
   "metadata": {},
   "outputs": [
    {
     "data": {
      "text/plain": [
       "{'dog': tensor(1.0000),\n",
       " 'dogs': tensor(0.7096),\n",
       " 'cat': tensor(0.5082),\n",
       " 'canine': tensor(0.5021),\n",
       " '##dog': tensor(0.4985)}"
      ]
     },
     "execution_count": 22,
     "metadata": {},
     "output_type": "execute_result"
    }
   ],
   "source": [
    "word_most_n_similar(dog_embedding)"
   ]
  },
  {
   "cell_type": "code",
   "execution_count": 23,
   "id": "9116ba50-b16d-4146-8efc-9898de3d4d57",
   "metadata": {},
   "outputs": [
    {
     "data": {
      "text/plain": [
       "{'dog': tensor(0.9063),\n",
       " 'dogs': tensor(0.6429),\n",
       " 'cat': tensor(0.4730),\n",
       " '##dog': tensor(0.4358),\n",
       " 'horse': tensor(0.4352)}"
      ]
     },
     "execution_count": 23,
     "metadata": {},
     "output_type": "execute_result"
    }
   ],
   "source": [
    "word_most_n_similar(dog_pos_embed)"
   ]
  },
  {
   "cell_type": "code",
   "execution_count": 24,
   "id": "401cd1af-3aeb-4562-a645-a5d320cabc1e",
   "metadata": {},
   "outputs": [
    {
     "data": {
      "text/plain": [
       "{'[CLS]': tensor(0.8772),\n",
       " '[MASK]': tensor(0.5752),\n",
       " 'dog': tensor(0.4465),\n",
       " '[SEP]': tensor(0.3790),\n",
       " 'dogs': tensor(0.3727)}"
      ]
     },
     "execution_count": 24,
     "metadata": {},
     "output_type": "execute_result"
    }
   ],
   "source": [
    "dog_embedding = model.bert.embeddings.word_embeddings(torch.tensor([[3899]]))\n",
    "dog_pos = model.bert.embeddings.position_embeddings(torch.tensor(0))\n",
    "dog_pos_embed = dog_pos + dog_embedding\n",
    "word_most_n_similar(dog_pos_embed)"
   ]
  },
  {
   "cell_type": "code",
   "execution_count": 25,
   "id": "6810ed0b-d669-4a10-87bc-4465421033b2",
   "metadata": {},
   "outputs": [
    {
     "data": {
      "text/plain": [
       "{'between': tensor(0.8843),\n",
       " 'among': tensor(0.2761),\n",
       " 'both': tensor(0.2405),\n",
       " 'separating': tensor(0.2284),\n",
       " 'connecting': tensor(0.2021)}"
      ]
     },
     "execution_count": 25,
     "metadata": {},
     "output_type": "execute_result"
    }
   ],
   "source": [
    "# random token, and add the token type [1, 0], see hugginngface docs for more info\n",
    "embedding = model.bert.embeddings.word_embeddings(torch.tensor([[2090]]))\n",
    "pos = model.bert.embeddings.position_embeddings(torch.tensor(5))\n",
    "token_type = model.bert.embeddings.token_type_embeddings(torch.tensor(0))\n",
    "pos_embed_token = pos + embedding + token_type\n",
    "norm = model.bert.embeddings.LayerNorm(pos_embed_token)\n",
    "word_most_n_similar(norm)"
   ]
  },
  {
   "cell_type": "code",
   "execution_count": null,
   "id": "9dba1c91-16e8-4cf4-8b2b-7c2678cef390",
   "metadata": {},
   "outputs": [],
   "source": []
  },
  {
   "cell_type": "code",
   "execution_count": 37,
   "id": "aec8c59b-f8b4-4838-a5f0-20e8b4bef7f9",
   "metadata": {},
   "outputs": [
    {
     "data": {
      "text/plain": [
       "{'dog': tensor(1.),\n",
       " 'dogs': tensor(0.7193),\n",
       " 'canine': tensor(0.5656),\n",
       " 'snake': tensor(0.5471),\n",
       " 'cat': tensor(0.5462)}"
      ]
     },
     "execution_count": 37,
     "metadata": {},
     "output_type": "execute_result"
    }
   ],
   "source": [
    "# truncate the vectors to just the first 100 values\n",
    "\n",
    "dog_embedding_100 = dog_embedding[0][0][:100].detach()\n",
    "dog_pos_100 = dog_pos[:100].detach()\n",
    "dog_pos_embed_100 = dog_embedding_100 + dog_pos_100\n",
    "\n",
    "\n",
    "cosine = torch.nn.CosineSimilarity()\n",
    "\n",
    "def word_most_n_similar_100(input_vec, n=5):\n",
    "    sims = [cosine(vec[:100].detach(), input_vec.reshape(1, -1)) for vec in model.bert.embeddings.word_embeddings.weight]\n",
    "    top_k = torch.topk(torch.tensor(sims), 5)\n",
    "    top_indices = top_k.indices\n",
    "    top_scores = top_k.values\n",
    "    sim_tokens = [(token,value) for token, value in tokenizer.vocab.items() if value in top_indices]\n",
    "    res ={}\n",
    "    for word, token in sim_tokens:\n",
    "        res[word] = top_scores[list(top_indices).index(token)]\n",
    "\n",
    "    return dict(sorted(res.items(), key=lambda x: x[1], reverse=True))\n",
    "\n",
    "\n",
    "word_most_n_similar_100(dog_embedding_100)"
   ]
  },
  {
   "cell_type": "code",
   "execution_count": 38,
   "id": "0ae5ab7e-ad95-430a-887e-c5f0833d7d7d",
   "metadata": {},
   "outputs": [
    {
     "data": {
      "text/plain": [
       "{'dog': tensor(0.8858),\n",
       " 'dogs': tensor(0.5633),\n",
       " 'rabbit': tensor(0.5006),\n",
       " 'elephant': tensor(0.4879),\n",
       " 'cat': tensor(0.4817)}"
      ]
     },
     "execution_count": 38,
     "metadata": {},
     "output_type": "execute_result"
    }
   ],
   "source": [
    "word_most_n_similar_100(dog_pos_embed_100)"
   ]
  },
  {
   "cell_type": "code",
   "execution_count": 39,
   "id": "836fa1b4-01d2-4ec1-ba96-745ce44f7fb9",
   "metadata": {},
   "outputs": [
    {
     "data": {
      "text/plain": [
       "(tensor(-0.1186), tensor(0.0750), tensor(-0.0018))"
      ]
     },
     "execution_count": 39,
     "metadata": {},
     "output_type": "execute_result"
    }
   ],
   "source": [
    "dog_pos_100.min(), dog_pos_100.max(), dog_pos_100.mean()"
   ]
  },
  {
   "cell_type": "code",
   "execution_count": 40,
   "id": "cc8dd30f-d7bf-490a-b3fb-1e4aca65d1e0",
   "metadata": {},
   "outputs": [
    {
     "data": {
      "text/plain": [
       "(tensor(-0.1000), tensor(0.0745), tensor(-0.0146))"
      ]
     },
     "execution_count": 40,
     "metadata": {},
     "output_type": "execute_result"
    }
   ],
   "source": [
    "dog_embedding_100.min(), dog_embedding_100.max(), dog_embedding_100.mean()"
   ]
  },
  {
   "cell_type": "code",
   "execution_count": null,
   "id": "1c44343e-c5a3-43bd-96f0-badb75ae5dd7",
   "metadata": {},
   "outputs": [],
   "source": []
  }
 ],
 "metadata": {
  "kernelspec": {
   "display_name": "Python 3 (ipykernel)",
   "language": "python",
   "name": "python3"
  },
  "language_info": {
   "codemirror_mode": {
    "name": "ipython",
    "version": 3
   },
   "file_extension": ".py",
   "mimetype": "text/x-python",
   "name": "python",
   "nbconvert_exporter": "python",
   "pygments_lexer": "ipython3",
   "version": "3.10.14"
  }
 },
 "nbformat": 4,
 "nbformat_minor": 5
}
